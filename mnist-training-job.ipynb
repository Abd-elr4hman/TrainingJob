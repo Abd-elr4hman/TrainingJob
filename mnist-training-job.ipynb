{
 "cells": [
  {
   "cell_type": "code",
   "execution_count": null,
   "id": "828bb425",
   "metadata": {},
   "outputs": [],
   "source": [
    "import os\n",
    "import sagemaker\n",
    "from sagemaker import get_execution_role\n",
    "\n",
    "sagemaker_session = sagemaker.Session()\n",
    "\n",
    "# role = get_execution_role()\n",
    "region = sagemaker_session.boto_session.region_name"
   ]
  },
  {
   "cell_type": "code",
   "execution_count": null,
   "id": "6e4ae138",
   "metadata": {},
   "outputs": [],
   "source": [
    "role = \"arn:aws:iam::401082536487:role/service-role/AmazonSageMaker-ExecutionRole-20221026T001537\""
   ]
  },
  {
   "cell_type": "code",
   "execution_count": null,
   "id": "316451e7",
   "metadata": {},
   "outputs": [],
   "source": [
    "from sagemaker.tensorflow import TensorFlow"
   ]
  },
  {
   "cell_type": "code",
   "execution_count": null,
   "id": "5cc6bec1",
   "metadata": {},
   "outputs": [],
   "source": [
    "execution_role=\"arn:aws:iam::401082536487:role/AWS-SAGEMAKER-EXECUTION\""
   ]
  },
  {
   "cell_type": "code",
   "execution_count": null,
   "id": "7f5f5900",
   "metadata": {},
   "outputs": [],
   "source": [
    "# train_data = \"s3://training-data-sagemaker-tensorflow-mnist/processing_output\"\n",
    "train_data = \"file://./data/mnist.npz\"\n"
   ]
  },
  {
   "cell_type": "code",
   "execution_count": null,
   "id": "28894049",
   "metadata": {},
   "outputs": [],
   "source": [
    "mnist_estimator = TensorFlow(\n",
    "    entry_point=\"mnist-training.py\",\n",
    "    role=execution_role,\n",
    "    instance_count=1,\n",
    "    # instance_type=\"ml.m5.large\",\n",
    "    instance_type=\"local\",\n",
    "    framework_version=\"2.7\",\n",
    "    py_version=\"py38\",\n",
    "    source_dir= \"src\",\n",
    "    output_path= \"s3://training-data-sagemaker-tensorflow-mnist/training_output\"\n",
    ")"
   ]
  },
  {
   "cell_type": "code",
   "execution_count": null,
   "id": "582909d9",
   "metadata": {},
   "outputs": [],
   "source": [
    "mnist_estimator.fit({\"train\":train_data})"
   ]
  },
  {
   "cell_type": "code",
   "execution_count": null,
   "id": "78523a3c",
   "metadata": {},
   "outputs": [],
   "source": []
  },
  {
   "cell_type": "code",
   "execution_count": null,
   "id": "8b055641",
   "metadata": {},
   "outputs": [],
   "source": []
  }
 ],
 "metadata": {
  "kernelspec": {
   "display_name": "MLOPS",
   "language": "python",
   "name": "python3"
  },
  "language_info": {
   "codemirror_mode": {
    "name": "ipython",
    "version": 3
   },
   "file_extension": ".py",
   "mimetype": "text/x-python",
   "name": "python",
   "nbconvert_exporter": "python",
   "pygments_lexer": "ipython3",
   "version": "3.11.5"
  }
 },
 "nbformat": 4,
 "nbformat_minor": 5
}
